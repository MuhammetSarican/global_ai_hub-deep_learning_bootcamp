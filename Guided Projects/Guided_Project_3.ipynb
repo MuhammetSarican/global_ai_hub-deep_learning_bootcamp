{
  "cells": [
    {
      "cell_type": "markdown",
      "source": [
        "# Building a Recurrent Neural Network\n",
        "\n",
        "## Sentiment Analysis\n",
        "In this project, we will build a Long Short-term Memory (LSTM) neural network to solve a binary sentiment analysis problem.\n",
        "\n",
        "For this, we'll use the “IMDB Movie Review Dataset\" available on Keras. It includes 50000 highly polarized movie reviews categorized as positive or negative."
      ],
      "metadata": {
        "id": "VYmYuGSWFs3-"
      }
    },
    {
      "cell_type": "markdown",
      "source": [
        "## Importing the required libraries\n",
        "We'll start with importing required libraries.\n",
        "\n",
        "📌 Use the keyword \"import\"."
      ],
      "metadata": {
        "id": "jQQ7xy4lzfsw"
      }
    },
    {
      "cell_type": "code",
      "execution_count": 1,
      "metadata": {
        "id": "b__mue-XGPZ9"
      },
      "outputs": [],
      "source": [
        "# Import TensorFlow\n",
        "import tensorflow as tf\n",
        "# Import NumPy and Matplotlib\n",
        "import numpy as np \n",
        "import matplotlib.pyplot as plt"
      ]
    },
    {
      "cell_type": "markdown",
      "metadata": {
        "id": "u0b5YzGHP3qs"
      },
      "source": [
        "## Dataset\n",
        "Let's download the IMDB dataset which is included in Keras, and assign it to the corresponding variables *X_train*, *y_train*, *X_test*, and *y_test*. We want to include the most frequently used 10000 words, so we specify 10000 for the num_words parameter.\n",
        "\n",
        "📌 Use the datasets.imdb.load_data() function of the Keras."
      ]
    },
    {
      "cell_type": "code",
      "execution_count": 4,
      "metadata": {
        "id": "1WLgLQxGGDz8"
      },
      "outputs": [],
      "source": [
        "# Download the IMDB dataset included in Keras\n",
        "# Set the parameter num_words to 10000\n",
        "(X_train, y_train), (X_test, y_test)=tf.keras.datasets.imdb.load_data(num_words=10000)"
      ]
    },
    {
      "cell_type": "markdown",
      "source": [
        "Before we move on, we can print a single sample to see what the data looks like.\n",
        "\n",
        "📌 Use the print() function for this."
      ],
      "metadata": {
        "id": "AUPnNCgC0mHm"
      }
    },
    {
      "cell_type": "code",
      "execution_count": 5,
      "metadata": {
        "id": "1spB5eY9xh-B",
        "colab": {
          "base_uri": "https://localhost:8080/"
        },
        "outputId": "6ea92884-ae3e-4736-a98d-6bf28c20ef11"
      },
      "outputs": [
        {
          "output_type": "execute_result",
          "data": {
            "text/plain": [
              "[1,\n",
              " 2,\n",
              " 328,\n",
              " 2517,\n",
              " 16,\n",
              " 626,\n",
              " 11,\n",
              " 5527,\n",
              " 43,\n",
              " 33,\n",
              " 4,\n",
              " 2,\n",
              " 7,\n",
              " 4,\n",
              " 4422,\n",
              " 2,\n",
              " 6,\n",
              " 192,\n",
              " 15,\n",
              " 408,\n",
              " 4,\n",
              " 22,\n",
              " 44,\n",
              " 4,\n",
              " 550,\n",
              " 2,\n",
              " 7,\n",
              " 2,\n",
              " 8025,\n",
              " 1484,\n",
              " 35,\n",
              " 1283,\n",
              " 2,\n",
              " 4,\n",
              " 328,\n",
              " 2517,\n",
              " 11,\n",
              " 4,\n",
              " 425,\n",
              " 6170,\n",
              " 8,\n",
              " 4,\n",
              " 2221,\n",
              " 7,\n",
              " 9497,\n",
              " 2,\n",
              " 2,\n",
              " 5,\n",
              " 1093,\n",
              " 15,\n",
              " 1583,\n",
              " 31,\n",
              " 42,\n",
              " 107,\n",
              " 634,\n",
              " 103,\n",
              " 4,\n",
              " 3938,\n",
              " 50,\n",
              " 28,\n",
              " 77,\n",
              " 85,\n",
              " 1151,\n",
              " 5,\n",
              " 108,\n",
              " 44,\n",
              " 4,\n",
              " 4813,\n",
              " 7,\n",
              " 4,\n",
              " 8885,\n",
              " 2165,\n",
              " 21,\n",
              " 600,\n",
              " 17,\n",
              " 955,\n",
              " 5,\n",
              " 976,\n",
              " 17,\n",
              " 14,\n",
              " 31,\n",
              " 448,\n",
              " 23,\n",
              " 6,\n",
              " 667,\n",
              " 34,\n",
              " 37,\n",
              " 8676,\n",
              " 1618,\n",
              " 39,\n",
              " 3019,\n",
              " 5,\n",
              " 4,\n",
              " 2,\n",
              " 7,\n",
              " 147,\n",
              " 113,\n",
              " 2165,\n",
              " 1484,\n",
              " 4,\n",
              " 22,\n",
              " 4661,\n",
              " 89,\n",
              " 35,\n",
              " 436,\n",
              " 223,\n",
              " 9,\n",
              " 3889,\n",
              " 9502,\n",
              " 17,\n",
              " 73,\n",
              " 17,\n",
              " 3105,\n",
              " 34,\n",
              " 4,\n",
              " 2165,\n",
              " 153,\n",
              " 103,\n",
              " 4,\n",
              " 204,\n",
              " 3938,\n",
              " 12,\n",
              " 9,\n",
              " 6,\n",
              " 4442,\n",
              " 1772,\n",
              " 21,\n",
              " 31,\n",
              " 15,\n",
              " 2,\n",
              " 19,\n",
              " 933,\n",
              " 5054,\n",
              " 18,\n",
              " 1946,\n",
              " 10,\n",
              " 10,\n",
              " 4,\n",
              " 22,\n",
              " 778,\n",
              " 11,\n",
              " 2,\n",
              " 23,\n",
              " 6996,\n",
              " 1086,\n",
              " 5714,\n",
              " 17,\n",
              " 1340,\n",
              " 5,\n",
              " 8862,\n",
              " 140,\n",
              " 44,\n",
              " 68,\n",
              " 1280,\n",
              " 2933,\n",
              " 4983,\n",
              " 1087,\n",
              " 6,\n",
              " 2,\n",
              " 641,\n",
              " 6527,\n",
              " 5,\n",
              " 6,\n",
              " 2,\n",
              " 5154,\n",
              " 9,\n",
              " 557,\n",
              " 220,\n",
              " 175,\n",
              " 686,\n",
              " 1430,\n",
              " 9,\n",
              " 2730,\n",
              " 42,\n",
              " 5939,\n",
              " 724,\n",
              " 2,\n",
              " 4,\n",
              " 86,\n",
              " 8885,\n",
              " 2165,\n",
              " 126,\n",
              " 3444,\n",
              " 23,\n",
              " 6,\n",
              " 543,\n",
              " 9,\n",
              " 150,\n",
              " 6,\n",
              " 173,\n",
              " 7,\n",
              " 479,\n",
              " 4358,\n",
              " 215,\n",
              " 820,\n",
              " 2,\n",
              " 68,\n",
              " 456,\n",
              " 4960,\n",
              " 7,\n",
              " 4,\n",
              " 6425,\n",
              " 103,\n",
              " 302,\n",
              " 814,\n",
              " 11,\n",
              " 312,\n",
              " 2288,\n",
              " 328,\n",
              " 5,\n",
              " 428,\n",
              " 4,\n",
              " 65,\n",
              " 4615,\n",
              " 187,\n",
              " 2,\n",
              " 6,\n",
              " 185,\n",
              " 255,\n",
              " 37,\n",
              " 9,\n",
              " 1059,\n",
              " 11,\n",
              " 4,\n",
              " 2,\n",
              " 2517,\n",
              " 17,\n",
              " 41,\n",
              " 2074,\n",
              " 1828,\n",
              " 145,\n",
              " 8,\n",
              " 4,\n",
              " 543,\n",
              " 8,\n",
              " 1787,\n",
              " 18,\n",
              " 369,\n",
              " 5,\n",
              " 4784,\n",
              " 11,\n",
              " 2,\n",
              " 2,\n",
              " 287,\n",
              " 178,\n",
              " 2,\n",
              " 1218,\n",
              " 15,\n",
              " 2416,\n",
              " 19,\n",
              " 178,\n",
              " 6,\n",
              " 185,\n",
              " 430,\n",
              " 19,\n",
              " 2391,\n",
              " 2348,\n",
              " 39,\n",
              " 27,\n",
              " 648,\n",
              " 2,\n",
              " 19,\n",
              " 27,\n",
              " 597,\n",
              " 8,\n",
              " 2537,\n",
              " 90,\n",
              " 35,\n",
              " 922,\n",
              " 132,\n",
              " 9,\n",
              " 11,\n",
              " 1674,\n",
              " 120,\n",
              " 27,\n",
              " 5150,\n",
              " 8,\n",
              " 879,\n",
              " 27,\n",
              " 492,\n",
              " 39,\n",
              " 2,\n",
              " 7,\n",
              " 2,\n",
              " 6,\n",
              " 452,\n",
              " 9,\n",
              " 11,\n",
              " 8192,\n",
              " 17,\n",
              " 59,\n",
              " 3339,\n",
              " 4,\n",
              " 2,\n",
              " 648,\n",
              " 7,\n",
              " 41,\n",
              " 506,\n",
              " 10,\n",
              " 10,\n",
              " 54,\n",
              " 4,\n",
              " 223,\n",
              " 1747,\n",
              " 8,\n",
              " 68,\n",
              " 3968,\n",
              " 344,\n",
              " 113,\n",
              " 9,\n",
              " 1437,\n",
              " 1194,\n",
              " 59,\n",
              " 1085,\n",
              " 41,\n",
              " 369,\n",
              " 1721,\n",
              " 187,\n",
              " 41,\n",
              " 5,\n",
              " 9313,\n",
              " 18,\n",
              " 4,\n",
              " 3455,\n",
              " 2,\n",
              " 7,\n",
              " 8025,\n",
              " 7855,\n",
              " 15,\n",
              " 28,\n",
              " 460,\n",
              " 3889,\n",
              " 41,\n",
              " 1697,\n",
              " 2,\n",
              " 2,\n",
              " 5,\n",
              " 2965,\n",
              " 4470,\n",
              " 15,\n",
              " 50,\n",
              " 9,\n",
              " 64,\n",
              " 970,\n",
              " 17,\n",
              " 644,\n",
              " 4,\n",
              " 223,\n",
              " 2,\n",
              " 15,\n",
              " 4,\n",
              " 2165,\n",
              " 47,\n",
              " 3889,\n",
              " 59,\n",
              " 2738,\n",
              " 89,\n",
              " 2,\n",
              " 5,\n",
              " 2,\n",
              " 71,\n",
              " 2730,\n",
              " 316,\n",
              " 2738,\n",
              " 12,\n",
              " 36,\n",
              " 859,\n",
              " 4,\n",
              " 609,\n",
              " 7,\n",
              " 968,\n",
              " 5,\n",
              " 140,\n",
              " 8,\n",
              " 2,\n",
              " 40,\n",
              " 35,\n",
              " 2,\n",
              " 1413,\n",
              " 146,\n",
              " 1195,\n",
              " 7,\n",
              " 12,\n",
              " 560,\n",
              " 6,\n",
              " 464,\n",
              " 2,\n",
              " 2,\n",
              " 4,\n",
              " 1521,\n",
              " 547,\n",
              " 902,\n",
              " 18,\n",
              " 112,\n",
              " 275,\n",
              " 74,\n",
              " 409,\n",
              " 5,\n",
              " 2523,\n",
              " 18,\n",
              " 112,\n",
              " 2,\n",
              " 10,\n",
              " 10,\n",
              " 54,\n",
              " 41,\n",
              " 2965,\n",
              " 5,\n",
              " 1697,\n",
              " 353,\n",
              " 8,\n",
              " 169,\n",
              " 41,\n",
              " 6,\n",
              " 658,\n",
              " 4,\n",
              " 2,\n",
              " 349,\n",
              " 5994,\n",
              " 8,\n",
              " 2275,\n",
              " 41,\n",
              " 88,\n",
              " 7,\n",
              " 2,\n",
              " 44,\n",
              " 41,\n",
              " 3365,\n",
              " 60,\n",
              " 151,\n",
              " 47,\n",
              " 6573,\n",
              " 41,\n",
              " 6914,\n",
              " 8,\n",
              " 1970,\n",
              " 15,\n",
              " 59,\n",
              " 286,\n",
              " 2555,\n",
              " 3773,\n",
              " 8,\n",
              " 4,\n",
              " 2165,\n",
              " 4,\n",
              " 64,\n",
              " 2,\n",
              " 59,\n",
              " 764,\n",
              " 3969,\n",
              " 19,\n",
              " 9,\n",
              " 160,\n",
              " 5939,\n",
              " 132,\n",
              " 37,\n",
              " 47,\n",
              " 6,\n",
              " 4079,\n",
              " 1274,\n",
              " 175,\n",
              " 58,\n",
              " 29,\n",
              " 5224,\n",
              " 4,\n",
              " 2,\n",
              " 7,\n",
              " 35,\n",
              " 7515,\n",
              " 33,\n",
              " 4,\n",
              " 130,\n",
              " 4,\n",
              " 936,\n",
              " 7,\n",
              " 113,\n",
              " 287,\n",
              " 410,\n",
              " 126,\n",
              " 38,\n",
              " 2,\n",
              " 54,\n",
              " 271,\n",
              " 8,\n",
              " 4,\n",
              " 9061,\n",
              " 5,\n",
              " 1085,\n",
              " 6,\n",
              " 1682,\n",
              " 59,\n",
              " 47,\n",
              " 77,\n",
              " 6626,\n",
              " 18,\n",
              " 32,\n",
              " 41,\n",
              " 113,\n",
              " 4,\n",
              " 711,\n",
              " 3583,\n",
              " 11,\n",
              " 4,\n",
              " 1093,\n",
              " 2,\n",
              " 17,\n",
              " 48,\n",
              " 8,\n",
              " 135,\n",
              " 15,\n",
              " 724,\n",
              " 4853,\n",
              " 50,\n",
              " 9,\n",
              " 131,\n",
              " 1805,\n",
              " 1038,\n",
              " 75,\n",
              " 842,\n",
              " 23,\n",
              " 4,\n",
              " 1878,\n",
              " 7025,\n",
              " 34,\n",
              " 7271,\n",
              " 44,\n",
              " 772,\n",
              " 4,\n",
              " 2165,\n",
              " 280,\n",
              " 174,\n",
              " 11,\n",
              " 4,\n",
              " 3454,\n",
              " 325,\n",
              " 406,\n",
              " 3529,\n",
              " 850,\n",
              " 164,\n",
              " 560,\n",
              " 36,\n",
              " 2,\n",
              " 533,\n",
              " 2,\n",
              " 2470,\n",
              " 9,\n",
              " 128,\n",
              " 74,\n",
              " 6,\n",
              " 325,\n",
              " 7,\n",
              " 1351,\n",
              " 138,\n",
              " 191,\n",
              " 36,\n",
              " 67,\n",
              " 328,\n",
              " 2517,\n",
              " 47,\n",
              " 2363,\n",
              " 1668,\n",
              " 32,\n",
              " 7,\n",
              " 178,\n",
              " 8,\n",
              " 67,\n",
              " 53,\n",
              " 695]"
            ]
          },
          "metadata": {},
          "execution_count": 5
        }
      ],
      "source": [
        "# Print a sample\n",
        "X_test[789]"
      ]
    },
    {
      "cell_type": "markdown",
      "source": [
        "Then, we print the the number of samples in the X_train and X_test datasets to see how the dataset is distributed.\n",
        "\n",
        "📌 Use f-strings for this."
      ],
      "metadata": {
        "id": "VKkhznIa8hIw"
      }
    },
    {
      "cell_type": "code",
      "execution_count": 6,
      "metadata": {
        "id": "skzb2oTCdV-c",
        "colab": {
          "base_uri": "https://localhost:8080/"
        },
        "outputId": "7c3f7755-04d8-4d95-e39f-7382490409a9"
      },
      "outputs": [
        {
          "output_type": "stream",
          "name": "stdout",
          "text": [
            "\n",
            "Length of the X_train: 25000\n",
            "Length of the X_test: 25000\n",
            "\n"
          ]
        }
      ],
      "source": [
        "# Print the number of samples\n",
        "print(f\"\"\"\n",
        "Length of the X_train: {len(X_train)}\n",
        "Length of the X_test: {len(X_test)}\n",
        "\"\"\")"
      ]
    },
    {
      "cell_type": "markdown",
      "metadata": {
        "id": "lF6kV-EsP5vS"
      },
      "source": [
        "# Preprocessing\n",
        "### Concatenate\n",
        "\n",
        "To split the dataset with 80-10-10 ratio, we'll first concatenate train and test datasets to create one big dataset.\n",
        "\n",
        "📌 Use contenate() function of the NumPy library for this."
      ]
    },
    {
      "cell_type": "code",
      "execution_count": 7,
      "metadata": {
        "id": "Whj2C-SlKv2E"
      },
      "outputs": [],
      "source": [
        "# Concatenate X_train and X_test and assing it to a variable X\n",
        "X=np.concatenate((X_train, X_test), axis=0)\n",
        "# Concatenate y_train and y_test and assing it to a variable y\n",
        "y=np.concatenate((y_train, y_test), axis=0)"
      ]
    },
    {
      "cell_type": "markdown",
      "metadata": {
        "id": "ZObXVorUxoGK"
      },
      "source": [
        "###Padding\n",
        "\n",
        "Since all reviews are at different lengths, we'll use padding to make all of them same length.\n",
        "\n",
        "📌 Use preprocessing.sequence.pad_sequences() function for this."
      ]
    },
    {
      "cell_type": "code",
      "execution_count": 8,
      "metadata": {
        "id": "T8mlvy8xKu7-"
      },
      "outputs": [],
      "source": [
        "# Pad all reviews in the X dataset to the length maxlen=1024\n",
        "X=tf.keras.preprocessing.sequence.pad_sequences(X, maxlen=1024)"
      ]
    },
    {
      "cell_type": "markdown",
      "source": [
        "### Splitting\n",
        "\n",
        "Now, split X and y into train, validation and test dataset and assign those to corresponding values.\n",
        "\n",
        "📌 You can use list slicing methods for this.\n",
        "\n",
        "📌 For this dataset, a 80-10-10 split corresponds to 40000 - 10000 - 10000 number of samples relatively.\n"
      ],
      "metadata": {
        "id": "2rZILMK5_-e4"
      }
    },
    {
      "cell_type": "code",
      "execution_count": 9,
      "metadata": {
        "id": "Ru_A80XWPr05"
      },
      "outputs": [],
      "source": [
        "# Create the training datasets\n",
        "X_train=X[:40000]\n",
        "y_train=y[:40000]\n",
        "# Create the validation datasets\n",
        "X_val=X[40000:45000]\n",
        "y_val=y[40000:45000]\n",
        "# Create the test datasets\n",
        "X_test=X[45000:50000]\n",
        "y_test=y[45000:50000]"
      ]
    },
    {
      "cell_type": "markdown",
      "source": [
        "To check if that worked out, print the number of samples in each dataset again.\n",
        "\n",
        "📌 Use f-strings for this."
      ],
      "metadata": {
        "id": "E4t0TWEuCs6q"
      }
    },
    {
      "cell_type": "code",
      "execution_count": 10,
      "metadata": {
        "id": "yhRLn4stTA4d",
        "colab": {
          "base_uri": "https://localhost:8080/"
        },
        "outputId": "3d446577-4466-4134-cb50-8cdb0d9e9a75"
      },
      "outputs": [
        {
          "output_type": "stream",
          "name": "stdout",
          "text": [
            "\n",
            "Length of the X_train: 40000\n",
            "Length of the y_train: 40000\n",
            "Length of the X_val: 5000\n",
            "Length of the y_val: 5000\n",
            "Length of the X_test: 5000\n",
            "Length of the y_test: 5000\n",
            "\n"
          ]
        }
      ],
      "source": [
        "# Print the number of samples\n",
        "print(f\"\"\"\n",
        "Length of the X_train: {len(X_train)}\n",
        "Length of the y_train: {len(y_train)}\n",
        "Length of the X_val: {len(X_val)}\n",
        "Length of the y_val: {len(y_val)}\n",
        "Length of the X_test: {len(X_test)}\n",
        "Length of the y_test: {len(y_test)}\n",
        "\"\"\")"
      ]
    },
    {
      "cell_type": "markdown",
      "source": [
        "## Constructing the neural network\n",
        "\n",
        "That was it for the preprocessing of the data! \n",
        "\n",
        "Now we can create our model. First, we start by creating a model object using the Sequential API of Keras.\n",
        "\n",
        "📌 Use tf.keras.Sequential() to create a model object"
      ],
      "metadata": {
        "id": "ZDCMa-o8ESLy"
      }
    },
    {
      "cell_type": "code",
      "execution_count": 11,
      "metadata": {
        "id": "-lodLU07jdzm"
      },
      "outputs": [],
      "source": [
        "model=tf.keras.Sequential()"
      ]
    },
    {
      "cell_type": "markdown",
      "source": [
        "### Embedding Layer\n",
        "\n",
        "For the first layer, we add an embedding layer.\n",
        "\n",
        "📌 Use tf.keras.layers.Embedding() for the embedding layer.\n",
        "\n",
        "📌 Use .add() method of the object to add the layer."
      ],
      "metadata": {
        "id": "-lh7_MzgFhIf"
      }
    },
    {
      "cell_type": "code",
      "execution_count": 12,
      "metadata": {
        "id": "41CLMa1Epasa"
      },
      "outputs": [],
      "source": [
        "# Add an embedding layer and a dropout\n",
        "model.add(tf.keras.layers.Embedding(input_dim=10000, output_dim=256))\n",
        "model.add(tf.keras.layers.Dropout(0.7))"
      ]
    },
    {
      "cell_type": "markdown",
      "source": [
        "Then, we add a LSTM layer and a dense layer; each with a dropout.\n",
        "\n",
        "📌 Use tf.keras.layers.LSTM() and tf.keras.layers.Dense() to create the layers.\n",
        "\n",
        "📌 Use .add() method of the object to add the layer."
      ],
      "metadata": {
        "id": "YpeVhPpEG3u9"
      }
    },
    {
      "cell_type": "code",
      "execution_count": 13,
      "metadata": {
        "id": "ntaW1KWrpngU"
      },
      "outputs": [],
      "source": [
        "# Add a LSTM layer with dropout\n",
        "model.add(tf.keras.layers.LSTM(256))\n",
        "model.add(tf.keras.layers.Dropout(0.7))\n",
        "# Add a Dense layer with dropout\n",
        "model.add(tf.keras.layers.Dense(128, activation=\"relu\"))\n",
        "model.add(tf.keras.layers.Dropout(0.7))"
      ]
    },
    {
      "cell_type": "markdown",
      "source": [
        "### Output layer\n",
        "\n",
        "As the last part of our neural network, we add the output layer. The number of nodes will be one since we are making binary classification. We'll use the sigmoid activation function in the output layer.\n",
        "\n",
        "📌 Use tf.keras.layers.Dense() to create the layer.\n",
        "\n",
        "📌 Use .add() method of the object to add the layer."
      ],
      "metadata": {
        "id": "lTWRJxTGHhaI"
      }
    },
    {
      "cell_type": "code",
      "execution_count": 14,
      "metadata": {
        "id": "1ufBdJmBs_T-"
      },
      "outputs": [],
      "source": [
        "# Add the output layer\n",
        "model.add(tf.keras.layers.Dense(1, activation=\"sigmoid\"))"
      ]
    },
    {
      "cell_type": "markdown",
      "source": [
        "### Optimizer\n",
        "\n",
        "Now we have the structure of our model. To configure the model for training, we'll use the *.compile()* method. Inside the compile method, we have to define the following:\n",
        "*   \"Adam\" for optimizer\n",
        "*   \"Binary Crossentropy\" for the loss function\n",
        "\n",
        "\n",
        "📌 Construct the model with the .compile() method."
      ],
      "metadata": {
        "id": "x7EI9LX1I522"
      }
    },
    {
      "cell_type": "code",
      "execution_count": 15,
      "metadata": {
        "id": "bkDRiJNW_Dbu"
      },
      "outputs": [],
      "source": [
        "model.compile(optimizer=\"adam\", loss=\"binary_crossentropy\", metrics=[\"accuracy\"])"
      ]
    },
    {
      "cell_type": "markdown",
      "source": [
        "## Training the model\n",
        "\n",
        "It's time to train the model. We'll give the X_train and y_train datasets as the first two arguments. These will be used for training. And with the *validation_data* parameter, we'll give the X_val and y_val as a tuple.\n",
        "\n",
        "📌 Use .fit() method of the model object for the training."
      ],
      "metadata": {
        "id": "vpcO1HLZJZtZ"
      }
    },
    {
      "cell_type": "code",
      "execution_count": null,
      "metadata": {
        "id": "PoTfLMTt4RQ1",
        "colab": {
          "base_uri": "https://localhost:8080/"
        },
        "outputId": "6d5a0d00-8eaf-4b15-be59-ce2ce874ae43"
      },
      "outputs": [
        {
          "output_type": "stream",
          "name": "stdout",
          "text": [
            "Epoch 1/5\n",
            "  48/1250 [>.............................] - ETA: 1:42:12 - loss: 0.6910 - accuracy: 0.5195"
          ]
        }
      ],
      "source": [
        "# Train the model for 5 epochs\n",
        "results= model.fit(X_train, y_train, epochs=5, validation_data=(X_val, y_val))"
      ]
    },
    {
      "cell_type": "markdown",
      "source": [
        "### Visualize the results\n",
        "\n",
        "After the model is trained, we can create a graph to visualize the change of loss over time. Results are held in:\n",
        "* results.history[\"loss\"]\n",
        "* results.history[\"val_loss\"]\n",
        "\n",
        "📌 Use plt.show() to display the graph."
      ],
      "metadata": {
        "id": "OEx98AYLJwhl"
      }
    },
    {
      "cell_type": "code",
      "execution_count": null,
      "metadata": {
        "id": "oDw7KpHct81z"
      },
      "outputs": [],
      "source": [
        "# Plot the the training loss\n",
        "\n",
        "\n",
        "# Plot the the validation loss\n",
        "\n",
        "\n",
        "# Name the x and y axises\n",
        "\n",
        "\n",
        "# Put legend table\n",
        "\n",
        "\n",
        "# Show the plot\n"
      ]
    },
    {
      "cell_type": "markdown",
      "source": [
        "Now, do the same thing for accuracy.\n",
        "\n",
        "📌 Accuracy scores can be found in:\n",
        "* results.history[\"accuracy\"]\n",
        "* results.history[\"val_accuracy\"]\n",
        "\n"
      ],
      "metadata": {
        "id": "x4f-9V6pKHfE"
      }
    },
    {
      "cell_type": "code",
      "execution_count": null,
      "metadata": {
        "id": "7LUeUQAn_CkD"
      },
      "outputs": [],
      "source": [
        "# Plot the the training accuracy\n",
        "\n",
        "\n",
        "# Plot the the validation accuracy\n",
        "\n",
        "\n",
        "# Name the x and y axises\n",
        "\n",
        "\n",
        "# Put legend table\n",
        "\n",
        "\n",
        "# Show the plot\n"
      ]
    },
    {
      "cell_type": "markdown",
      "source": [
        "## Performance evaluation\n",
        "\n",
        "Let's use the test dataset that we created to evaluate the performance of the model.\n",
        "\n",
        "📌 Use test_on_batch() method with test dataset as parameter."
      ],
      "metadata": {
        "id": "xnz14s_zKSq8"
      }
    },
    {
      "cell_type": "code",
      "execution_count": null,
      "metadata": {
        "id": "grHvXCZY_JVT"
      },
      "outputs": [],
      "source": [
        "# Evaluate the performance\n"
      ]
    },
    {
      "cell_type": "markdown",
      "source": [
        "### Try a prediction\n",
        "\n",
        "Next, we take a sample and make a prediction on it.\n",
        "\n",
        "📌 Reshape the review to (1, 1024).\n",
        "\n",
        "📌 Use the .prediction() method of the model object."
      ],
      "metadata": {
        "id": "MOJH4551KWWe"
      }
    },
    {
      "cell_type": "code",
      "execution_count": null,
      "metadata": {
        "id": "vda8VhZh_LiK"
      },
      "outputs": [],
      "source": [
        "# Make prediction on the reshaped sample\n"
      ]
    }
  ],
  "metadata": {
    "accelerator": "GPU",
    "colab": {
      "collapsed_sections": [],
      "provenance": []
    },
    "gpuClass": "standard",
    "kernelspec": {
      "display_name": "Python 3",
      "name": "python3"
    },
    "language_info": {
      "name": "python"
    }
  },
  "nbformat": 4,
  "nbformat_minor": 0
}